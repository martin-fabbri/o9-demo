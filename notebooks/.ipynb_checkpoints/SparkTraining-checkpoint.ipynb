{
 "cells": [
  {
   "cell_type": "markdown",
   "id": "131c277c-386b-4670-a361-62fcada814ff",
   "metadata": {},
   "source": [
    "# 1. Create a spark session via notebooks\n",
    "    The following library enables creation of a spark session through the notebook\n",
    "    \n",
    "    from o9_ibpl_magics import init_spark_session\n",
    "    init_spark_session({\"executorMemory\":\"10G\", \"numExecutors\":2})"
   ]
  },
  {
   "cell_type": "markdown",
   "id": "6a4e398a-e049-4f68-be68-5ef06e2016cc",
   "metadata": {},
   "source": [
    "# 2. Steps to upload the file into Hadoop and read as dataframe\n",
    "    Steps to load a file to Hadoop and analyze the data\n",
    "    1. Create a new folder if it doesnt exist in the left navigation panel under root folder called \"spark_files\"\n",
    "    2. Click the \"Upload Files\" button on the left navigation panel and load your csv or parquet file to the spark_files folder\n",
    "    3. Now click \"UploadFileToCluster\" on the notebook menu and select the file that was loaded (all files from the spark_files folder are listed here)\n",
    "    4. Select the appropriate cluster size for loading the data\n",
    "    5. Click submit, you will see \"Busy\" keyword next to the Tenant Conda environment at the bottom.\n",
    "    6. When the status goes back to Idle and a message pops up saying your file has been loaded to folder, you can assume your file has been loaded.\n",
    "    7. Open a terminal window and cd into spark_files folder and do a cat on spark_file_upload_info.csv\n",
    "    8. This will give the path published by the system to load the file, copy this into cliboard\n",
    "    9. You can now use this path to load the file into a any kind of dataframe"
   ]
  },
  {
   "cell_type": "markdown",
   "id": "516faea9-c6e0-49ba-b019-cb2e46ef81d2",
   "metadata": {},
   "source": [
    "# 3. Steps to pull data directly from IBPL query"
   ]
  },
  {
   "cell_type": "markdown",
   "id": "03d78db8-9b18-4d20-b175-0f8b1d51c7b9",
   "metadata": {},
   "source": [
    "# 4. Understanding Profile data and execution within Spark"
   ]
  },
  {
   "cell_type": "markdown",
   "id": "066f1317-fcb3-4c4c-8189-97b12bdf1b8d",
   "metadata": {},
   "source": [
    "# 5. Manage spark session (Menu item and what it does)"
   ]
  },
  {
   "cell_type": "markdown",
   "id": "76d1cb49-8d15-47b0-b93c-a12e7564fe72",
   "metadata": {},
   "source": [
    "# 6. Write Back to Hadoop directly from Notebook"
   ]
  }
 ],
 "metadata": {
  "kernelspec": {
   "display_name": "[WalmartAIPlugin] Tenant Conda Environment",
   "language": "python",
   "name": "qarelease_walmartaiplugin"
  },
  "language_info": {
   "codemirror_mode": {
    "name": "ipython",
    "version": 3
   },
   "file_extension": ".py",
   "mimetype": "text/x-python",
   "name": "python",
   "nbconvert_exporter": "python",
   "pygments_lexer": "ipython3",
   "version": "3.6.10"
  }
 },
 "nbformat": 4,
 "nbformat_minor": 5
}
