{
 "cells": [
  {
   "cell_type": "markdown",
   "id": "131c277c-386b-4670-a361-62fcada814ff",
   "metadata": {},
   "source": [
    "# 1. Create a spark session via notebooks"
   ]
  },
  {
   "cell_type": "markdown",
   "id": "6a4e398a-e049-4f68-be68-5ef06e2016cc",
   "metadata": {},
   "source": [
    "# 2. Steps to upload the file into Hadoop and read as dataframe"
   ]
  },
  {
   "cell_type": "markdown",
   "id": "516faea9-c6e0-49ba-b019-cb2e46ef81d2",
   "metadata": {},
   "source": [
    "# 3. Steps to pull data directly from IBPL query"
   ]
  },
  {
   "cell_type": "markdown",
   "id": "03d78db8-9b18-4d20-b175-0f8b1d51c7b9",
   "metadata": {},
   "source": [
    "# 4. Understanding Profile data and execution within Spark"
   ]
  },
  {
   "cell_type": "markdown",
   "id": "066f1317-fcb3-4c4c-8189-97b12bdf1b8d",
   "metadata": {},
   "source": [
    "# 5. Manage spark session (Menu item and what it does)"
   ]
  },
  {
   "cell_type": "markdown",
   "id": "76d1cb49-8d15-47b0-b93c-a12e7564fe72",
   "metadata": {},
   "source": [
    "# 6. Write Back to Hadoop directly from Notebook"
   ]
  }
 ],
 "metadata": {
  "kernelspec": {
   "display_name": "[WalmartAIPlugin] Tenant Conda Environment",
   "language": "python",
   "name": "qarelease_walmartaiplugin"
  },
  "language_info": {
   "codemirror_mode": {
    "name": "ipython",
    "version": 3
   },
   "file_extension": ".py",
   "mimetype": "text/x-python",
   "name": "python",
   "nbconvert_exporter": "python",
   "pygments_lexer": "ipython3",
   "version": "3.6.10"
  }
 },
 "nbformat": 4,
 "nbformat_minor": 5
}
